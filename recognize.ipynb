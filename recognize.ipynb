{
 "cells": [
  {
   "cell_type": "code",
   "execution_count": 18,
   "id": "505a822e",
   "metadata": {},
   "outputs": [],
   "source": [
    "import numpy as np\n",
    "from keras.datasets import mnist\n",
    "from keras.models import Sequential\n",
    "from keras.layers import Conv2D\n",
    "from keras.layers import MaxPooling2D\n",
    "from keras.layers import Dense\n",
    "from keras.layers import Flatten\n",
    "from sklearn.model_selection import KFold\n",
    "from tensorflow.keras.optimizers import SGD\n",
    "from matplotlib import pyplot\n",
    "from tensorflow.keras.utils import to_categorical\n",
    "from keras.layers import BatchNormalization\n",
    "from keras.preprocessing.image import load_img\n",
    "from keras.preprocessing.image import img_to_array\n",
    "from sklearn.model_selection import train_test_split\n",
    "from sklearn.metrics import confusion_matrix,classification_report, precision_recall_fscore_support\n",
    "import cv2\n",
    "import pandas as pd\n",
    "# np.set_printoptions(threshold=np.inf)"
   ]
  },
  {
   "cell_type": "code",
   "execution_count": 19,
   "id": "7105ae3e",
   "metadata": {},
   "outputs": [],
   "source": [
    "sz=128\n",
    "dataX=np.zeros((3750,sz,sz))\n",
    "path='dataset/'\n",
    "for i in range(3749):\n",
    "    img = cv2.imread(path+str(i+1)+'.jpg', cv2.IMREAD_GRAYSCALE)\n",
    "    img = cv2.resize(img, (sz,sz), interpolation = cv2.INTER_AREA)\n",
    "    img=img.reshape(1, sz, sz)\n",
    "    img=img_to_array(img[:,:]) \n",
    "    dataX[i,:,:] =img_to_array(img[:,:]) \n",
    "dataY = pd.read_csv('dataset.csv')\n",
    "dataY = pd.DataFrame.to_numpy(dataY)\n",
    "dataY =dataY.reshape(len(dataY),)\n",
    "dataY = to_categorical(dataY)"
   ]
  },
  {
   "cell_type": "code",
   "execution_count": 20,
   "id": "21220629",
   "metadata": {},
   "outputs": [],
   "source": [
    "def data_split(dataX, dataY):\n",
    "    X_train, X_test, y_train, y_test = train_test_split(\n",
    "    dataX, dataY, test_size=0.2, random_state=2)\n",
    "    return X_train, X_test, y_train, y_test"
   ]
  },
  {
   "cell_type": "code",
   "execution_count": 4,
   "id": "2641202d",
   "metadata": {},
   "outputs": [],
   "source": [
    "def prep_pixels(train, test):\n",
    "    # convert from integers to floats\n",
    "    train_norm = train.astype('float32')\n",
    "    test_norm = test.astype('float32')\n",
    "    # normalize to range 0-1\n",
    "    train_norm = train_norm / 255.0\n",
    "    test_norm = test_norm / 255.0\n",
    "    # return normalized images\n",
    "    return train_norm, test_norm"
   ]
  },
  {
   "cell_type": "code",
   "execution_count": 5,
   "id": "3ab2def9",
   "metadata": {},
   "outputs": [],
   "source": [
    "trainX, testX, trainY, testY=data_split(dataX, dataY)\n",
    "trainX, testX = prep_pixels(trainX, testX)\n",
    "trainX = trainX.reshape((trainX.shape[0], sz, sz, 1))\n",
    "testX = testX.reshape((testX.shape[0], sz, sz, 1))"
   ]
  },
  {
   "cell_type": "code",
   "execution_count": 6,
   "id": "81177527",
   "metadata": {},
   "outputs": [
    {
     "name": "stdout",
     "output_type": "stream",
     "text": [
      "Train: X=(3000, 128, 128, 1), y=(3000, 5)\n",
      "Test: X=(750, 128, 128, 1), y=(750, 5)\n"
     ]
    }
   ],
   "source": [
    "print('Train: X=%s, y=%s' % (trainX.shape, trainY.shape))\n",
    "print('Test: X=%s, y=%s' % (testX.shape, testY.shape))"
   ]
  },
  {
   "cell_type": "code",
   "execution_count": 7,
   "id": "48f6a9bf",
   "metadata": {},
   "outputs": [],
   "source": [
    "# evaluate a model using k-fold cross-validation\n",
    "def evaluate_model(dataX, dataY, n_folds=2):\n",
    "    scores, histories = list(), list()\n",
    "    # prepare cross validation\n",
    "    kfold = KFold(n_folds, shuffle=True, random_state=1)\n",
    "    # enumerate splits\n",
    "    for train_ix, test_ix in kfold.split(dataX):\n",
    "        # define model\n",
    "        model = define_model()\n",
    "        # select rows for train and test\n",
    "        trainX, trainY, testX, testY = dataX[train_ix], dataY[train_ix], dataX[test_ix], dataY[test_ix]\n",
    "        # fit model\n",
    "        print(trainX.shape)\n",
    "        history = model.fit(trainX, trainY, epochs=3, batch_size=64, validation_data=(testX, testY), verbose=0)\n",
    "        # evaluate model\n",
    "        _, acc = model.evaluate(testX, testY, verbose=0)\n",
    "        print('> %.3f' % (acc * 100.0))\n",
    "        # stores scores\n",
    "        scores.append(acc)\n",
    "        histories.append(history)\n",
    "    return scores, histories, model"
   ]
  },
  {
   "cell_type": "code",
   "execution_count": 8,
   "id": "855fdf2d",
   "metadata": {},
   "outputs": [],
   "source": [
    "def summarize_diagnostics(histories):\n",
    "    fig, (ax1, ax2) = pyplot.subplots(2, 1)\n",
    "    for i in range(len(histories)):\n",
    "        # plot loss\n",
    "        ax1.title.set_text('Cross Entropy Loss')\n",
    "        ax1.plot(histories[i].history['loss'], color='blue', label='train')\n",
    "        ax1.plot(histories[i].history['val_loss'], color='orange', label='test')\n",
    "        # plot accuracy\n",
    "#         pyplot.subplot(2, 1, 2)\n",
    "        ax2.title.set_text('Classification Accuracy')\n",
    "        ax2.plot(histories[i].history['accuracy'], color='blue', label='train')\n",
    "        ax2.plot(histories[i].history['val_accuracy'], color='orange', label='test')\n",
    "    pyplot.show()"
   ]
  },
  {
   "cell_type": "code",
   "execution_count": 9,
   "id": "85659133",
   "metadata": {},
   "outputs": [],
   "source": [
    "# summarize model performance\n",
    "def summarize_performance(scores):\n",
    "    # print summary\n",
    "    print('Accuracy: mean=%.3f std=%.3f, n=%d' % (np.mean(scores)*100, np.std(scores)*100, len(scores)))\n",
    "    # box and whisker plots of results\n",
    "    pyplot.boxplot(scores)\n",
    "    pyplot.show()"
   ]
  },
  {
   "cell_type": "code",
   "execution_count": 12,
   "id": "47f80d34",
   "metadata": {},
   "outputs": [],
   "source": [
    "# define cnn model\n",
    "def define_model():\n",
    "    model = Sequential()\n",
    "    model.add(Conv2D(32, (3, 3), activation='PReLU', kernel_initializer='he_uniform', input_shape=(sz, sz, 1)))\n",
    "    model.add(Conv2D(32, (3, 3), activation='PReLU', kernel_initializer='he_uniform', input_shape=(sz, sz, 1)))\n",
    "    model.add(MaxPooling2D((2, 2)))\n",
    "    model.add(BatchNormalization())\n",
    "    model.add(Conv2D(64, (3, 3), activation='PReLU', kernel_initializer='he_uniform'))\n",
    "    model.add(Conv2D(64, (3, 3), activation='PReLU', kernel_initializer='he_uniform'))\n",
    "    model.add(MaxPooling2D((2, 2)))\n",
    "    model.add(BatchNormalization())\n",
    "    model.add(Conv2D(128, (3, 3), activation='PReLU', kernel_initializer='he_uniform'))\n",
    "    model.add(MaxPooling2D((2, 2)))\n",
    "    model.add(BatchNormalization())\n",
    "    model.add(Conv2D(256, (3, 3), activation='PReLU', kernel_initializer='he_uniform'))\n",
    "    model.add(MaxPooling2D((2, 2)))\n",
    "    model.add(BatchNormalization())\n",
    "    model.add(Conv2D(512, (3, 3), activation='PReLU', kernel_initializer='he_uniform'))\n",
    "    model.add(BatchNormalization())\n",
    "    model.add(Flatten())\n",
    "    model.add(Dense(100, activation='PReLU', kernel_initializer='he_uniform'))\n",
    "    model.add(BatchNormalization())\n",
    "    model.add(Dense(5, activation='softmax'))\n",
    "    # compile model\n",
    "    opt = SGD(learning_rate=0.01, momentum=0.9, decay = 1e-04)\n",
    "    model.compile(optimizer=opt, loss='categorical_crossentropy', metrics=['accuracy'])\n",
    "    return model"
   ]
  },
  {
   "cell_type": "code",
   "execution_count": 13,
   "id": "239eff0e",
   "metadata": {},
   "outputs": [
    {
     "name": "stdout",
     "output_type": "stream",
     "text": [
      "(1500, 128, 128, 1)\n",
      "> 20.400\n",
      "(1500, 128, 128, 1)\n",
      "> 19.733\n"
     ]
    },
    {
     "data": {
      "image/png": "[encoded data removed]",
      "text/plain": [
       "<Figure size 432x288 with 2 Axes>"
      ]
     },
     "metadata": {
      "needs_background": "light"
     },
     "output_type": "display_data"
    },
    {
     "name": "stdout",
     "output_type": "stream",
     "text": [
      "Accuracy: mean=20.067 std=0.333, n=2\n"
     ]
    },
    {
     "data": {
      "image/png": "[encoded data removed]",
      "text/plain": [
       "<Figure size 432x288 with 1 Axes>"
      ]
     },
     "metadata": {
      "needs_background": "light"
     },
     "output_type": "display_data"
    }
   ],
   "source": [
    "# evaluate model\n",
    "scores, histories, model = evaluate_model(trainX, trainY)\n",
    "# learning curves\n",
    "summarize_diagnostics(histories)\n",
    "# summarize estimated performance\n",
    "summarize_performance(scores)\n",
    "\n",
    "# model.save('final_model.h5')"
   ]
  },
  {
   "cell_type": "code",
   "execution_count": 26,
   "id": "8af3268b-df5f-4197-a44d-59f2d21d1f8a",
   "metadata": {},
   "outputs": [
    {
     "name": "stdout",
     "output_type": "stream",
     "text": [
      "[2 1 2 1 3 0 3 3 4 1 2 2 3 1 0 0 0 2 2 4 1 0 0 2 4 3 2 4 0 3 2 1 0 2 0 1 2\n",
      " 1 0 1 4 4 0 2 4 0 0 3 0 1 1 4 4 4 2 4 0 1 3 3 4 0 0 4 2 4 4 4 2 3 3 3 0 3\n",
      " 0 3 4 3 3 1 2 2 0 4 3 2 2 0 4 3 2 1 2 3 2 4 3 0 2 3 0 1 4 4 0 2 4 1 4 4 0\n",
      " 3 2 2 2 4 1 2 1 4 3 0 3 0 1 1 0 3 3 1 2 3 2 0 2 4 0 3 0 2 0 4 0 1 4 0 2 4\n",
      " 0 0 3 4 2 2 1 1 2 1 4 1 1 2 3 1 1 4 2 0 1 1 1 2 4 3 4 3 2 3 1 3 3 4 2 3 2\n",
      " 1 3 1 1 2 3 4 3 4 4 1 2 1 3 1 2 0 0 4 1 4 1 3 2 4 0 3 1 3 4 4 0 4 2 0 3 4\n",
      " 2 1 4 3 1 4 0 3 0 4 1 1 3 0 2 3 0 0 2 1 4 4 2 2 1 0 1 4 0 0 1 4 1 2 4 3 0\n",
      " 4 2 2 0 2 4 0 1 0 3 1 1 4 0 3 4 0 2 0 4 3 0 0 3 2 2 2 2 2 2 1 3 3 0 4 4 2\n",
      " 4 1 1 2 0 0 0 2 3 2 0 3 3 3 4 4 0 4 2 1 1 4 0 4 4 0 2 2 1 0 4 0 2 0 2 0 1\n",
      " 0 2 1 3 1 3 2 1 1 4 0 3 3 1 0 2 1 3 2 2 2 4 3 4 2 0 0 2 4 1 1 3 2 2 1 1 3\n",
      " 4 2 4 1 0 4 2 3 1 4 2 2 4 1 4 3 2 1 0 1 3 0 4 0 3 1 1 1 3 1 2 1 3 0 4 0 3\n",
      " 0 1 2 1 1 1 3 2 4 2 0 1 3 1 1 3 4 0 0 1 0 0 2 4 1 1 1 4 2 4 3 3 2 4 2 2 1\n",
      " 1 1 3 1 3 2 3 1 1 0 1 0 3 3 2 3 1 4 1 1 3 1 2 0 1 4 3 2 4 1 4 0 3 3 4 3 4\n",
      " 0 1 3 3 4 3 2 0 4 3 0 2 0 4 4 3 1 0 1 1 4 2 0 1 4 0 0 3 3 1 1 1 4 2 2 1 3\n",
      " 3 2 2 1 1 4 3 0 2 4 2 0 4 2 0 3 1 4 2 4 2 1 2 4 2 2 3 0 0 0 0 4 4 4 0 2 4\n",
      " 2 1 3 4 3 2 2 3 3 0 0 0 3 1 3 0 2 0 1 3 1 2 4 0 4 4 0 1 3 1 0 1 4 1 2 4 3\n",
      " 3 1 1 0 1 0 0 2 2 2 2 0 1 2 4 1 1 4 3 4 4 4 3 3 0 3 4 2 4 0 2 1 4 4 1 0 4\n",
      " 3 3 3 4 1 3 4 2 0 4 3 2 0 4 1 0 2 4 2 3 3 0 3 0 2 1 1 3 0 2 4 1 2 1 0 3 4\n",
      " 2 3 4 3 1 3 2 3 2 0 1 3 4 4 1 2 2 0 0 1 2 0 3 3 4 0 1 4 0 1 4 2 2 4 4 0 3\n",
      " 4 3 0 1 1 4 3 0 4 2 3 3 3 0 2 3 1 0 0 3 2 3 3 4 0 3 0 4 3 2 0 1 0 4 0 0 2\n",
      " 0 1 3 1 2 0 2 0 3 0]\n"
     ]
    }
   ],
   "source": [
    "y_tar=np.argmax(testY,1)\n",
    "print(y_tar)"
   ]
  },
  {
   "cell_type": "code",
   "execution_count": 29,
   "id": "d4365852-30e8-4b91-bfd4-c20f09891139",
   "metadata": {},
   "outputs": [
    {
     "name": "stdout",
     "output_type": "stream",
     "text": [
      "[[  0   0   0   0 152]\n",
      " [  0   0   0   0 152]\n",
      " [  0   0   0   0 151]\n",
      " [  0   0   0   0 147]\n",
      " [  0   0   0   0 148]]\n"
     ]
    }
   ],
   "source": [
    "pY_test=model.predict(testX)\n",
    "groundTruth=y_tar\n",
    "predections= pY_test.argmax(axis=1)\n",
    "cm=confusion_matrix(groundTruth,predections)\n",
    "print(cm)"
   ]
  },
  {
   "cell_type": "code",
   "execution_count": 28,
   "id": "439553a6-4bb3-405a-8c65-087d35754f6e",
   "metadata": {},
   "outputs": [
    {
     "name": "stdout",
     "output_type": "stream",
     "text": [
      "[[  0   0   0   0 152]\n",
      " [  0   0   0   0 152]\n",
      " [  0   0   0   0 151]\n",
      " [  0   0   0   0 147]\n",
      " [  0   0   0   0 148]]\n"
     ]
    }
   ],
   "source": []
  },
  {
   "cell_type": "code",
   "execution_count": null,
   "id": "77e84eb2-8219-4ae9-a51f-1dd817572861",
   "metadata": {},
   "outputs": [],
   "source": []
  }
 ],
 "metadata": {
  "kernelspec": {
   "display_name": "Python 3",
   "language": "python",
   "name": "python3"
  },
  "language_info": {
   "codemirror_mode": {
    "name": "ipython",
    "version": 3
   },
   "file_extension": ".py",
   "mimetype": "text/x-python",
   "name": "python",
   "nbconvert_exporter": "python",
   "pygments_lexer": "ipython3",
   "version": "3.8.8"
  }
 },
 "nbformat": 4,
 "nbformat_minor": 5
}
