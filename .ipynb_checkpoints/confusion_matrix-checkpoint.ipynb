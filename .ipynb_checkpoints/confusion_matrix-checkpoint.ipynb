{
  "nbformat": 4,
  "nbformat_minor": 0,
  "metadata": {
    "colab": {
      "name": "Untitled0.ipynb",
      "provenance": [],
      "authorship_tag": "ABX9TyNzQSB8kSush0A4NLPTqiLP",
      "include_colab_link": true
    },
    "kernelspec": {
      "name": "python3",
      "display_name": "Python 3"
    },
    "language_info": {
      "name": "python"
    }
  },
  "cells": [
    {
      "cell_type": "markdown",
      "metadata": {
        "id": "view-in-github",
        "colab_type": "text"
      },
      "source": [
        "<a href=\"https://colab.research.google.com/github/Gamalielmch/CNN_PDI/blob/main/confusion_matrix.ipynb\" target=\"_parent\"><img src=\"https://colab.research.google.com/assets/colab-badge.svg\" alt=\"Open In Colab\"/></a>"
      ]
    },
    {
      "cell_type": "code",
      "metadata": {
        "id": "00jVKeRgHn9J"
      },
      "source": [
        "import numpy as np\n",
        "from keras.datasets import mnist\n",
        "from keras.models import Sequential\n",
        "from keras.layers import Conv2D\n",
        "from keras.layers import MaxPooling2D\n",
        "from keras.layers import Dense\n",
        "from keras.layers import Flatten\n",
        "from sklearn.model_selection import KFold\n",
        "from tensorflow.keras.optimizers import SGD\n",
        "from matplotlib import pyplot\n",
        "from tensorflow.keras.utils import to_categorical\n",
        "from keras.layers import BatchNormalization\n",
        "from keras.preprocessing.image import load_img\n",
        "from keras.preprocessing.image import img_to_array\n",
        "from sklearn.model_selection import train_test_split\n",
        "from sklearn.metrics import confusion_matrix,classification_report, precision_recall_fscore_support\n",
        "import cv2\n",
        "import pandas as pd"
      ],
      "execution_count": 18,
      "outputs": []
    },
    {
      "cell_type": "code",
      "metadata": {
        "id": "FNPjjNFxIOet"
      },
      "source": [
        "# load dataset\n",
        "(trainX, trainY), (testX, testY) = mnist.load_data()\n",
        "# reshape dataset to have a single channel\n",
        "trainX = trainX.reshape((trainX.shape[0], 28, 28, 1))\n",
        "testX = testX.reshape((testX.shape[0], 28, 28, 1))\n",
        "\n"
      ],
      "execution_count": 19,
      "outputs": []
    },
    {
      "cell_type": "code",
      "metadata": {
        "id": "4FcJ_efkIWVf"
      },
      "source": [
        "trainY = to_categorical(trainY)\n",
        "testY = to_categorical(testY)"
      ],
      "execution_count": 20,
      "outputs": []
    },
    {
      "cell_type": "code",
      "metadata": {
        "id": "2hP8UI3XIZTA"
      },
      "source": [
        "# convert from integers to floats\n",
        "trainX = trainX.astype('float32')\n",
        "testX = testX.astype('float32')\n",
        "# normalize to range 0-1\n",
        "trainX = trainX / 255.0\n",
        "testX = testX / 255.0"
      ],
      "execution_count": 21,
      "outputs": []
    },
    {
      "cell_type": "code",
      "metadata": {
        "id": "IG5AZYX6Ibdl"
      },
      "source": [
        "# define cnn model\n",
        "def define_model():\n",
        "    model = Sequential()\n",
        "    model.add(Conv2D(32, (3, 3), activation='relu', kernel_initializer='he_uniform', input_shape=(28, 28, 1)))\n",
        "    model.add(MaxPooling2D((2, 2)))\n",
        "    model.add(Flatten())\n",
        "    model.add(Dense(100, activation='relu', kernel_initializer='he_uniform'))\n",
        "    model.add(Dense(10, activation='softmax'))\n",
        "    # compile model\n",
        "    opt = SGD(learning_rate=0.01, momentum=0.9)\n",
        "    model.compile(optimizer=opt, loss='categorical_crossentropy', metrics=['accuracy'])\n",
        "#     model.summary()\n",
        "    return model"
      ],
      "execution_count": 22,
      "outputs": []
    },
    {
      "cell_type": "code",
      "metadata": {
        "id": "KA71Q3NTIfF6"
      },
      "source": [
        "# evaluate a model using k-fold cross-validation\n",
        "def evaluate_model(dataX, dataY, n_folds=5):\n",
        "    scores, histories = list(), list()\n",
        "    # prepare cross validation\n",
        "    kfold = KFold(n_folds, shuffle=True, random_state=1)\n",
        "    # enumerate splits\n",
        "    for train_ix, test_ix in kfold.split(dataX):\n",
        "        # define model\n",
        "        model = define_model()\n",
        "        # select rows for train and test\n",
        "        trainX, trainY, testX, testY = dataX[train_ix], dataY[train_ix], dataX[test_ix], dataY[test_ix]\n",
        "        # fit model\n",
        "        print(trainX.shape)\n",
        "        history = model.fit(trainX, trainY, epochs=1, batch_size=32, validation_data=(testX, testY), verbose=1)\n",
        "        # evaluate model\n",
        "        _, acc = model.evaluate(testX, testY, verbose=0)\n",
        "        print('> %.3f' % (acc * 100.0))\n",
        "        # stores scores\n",
        "        scores.append(acc)\n",
        "        histories.append(history)\n",
        "    return scores, histories, model"
      ],
      "execution_count": 23,
      "outputs": []
    },
    {
      "cell_type": "code",
      "metadata": {
        "id": "Tre9h_ubIhHy"
      },
      "source": [
        "def summarize_diagnostics(histories):\n",
        "    fig, (ax1, ax2) = pyplot.subplots(2, 1)\n",
        "    for i in range(len(histories)):\n",
        "        # plot loss\n",
        "        ax1.title.set_text('Cross Entropy Loss')\n",
        "        ax1.plot(histories[i].history['loss'], color='blue', label='train')\n",
        "        ax1.plot(histories[i].history['val_loss'], color='orange', label='test')\n",
        "        # plot accuracy\n",
        "#         pyplot.subplot(2, 1, 2)\n",
        "        ax2.title.set_text('Classification Accuracy')\n",
        "        ax2.plot(histories[i].history['accuracy'], color='blue', label='train')\n",
        "        ax2.plot(histories[i].history['val_accuracy'], color='orange', label='test')\n",
        "    pyplot.show()"
      ],
      "execution_count": 24,
      "outputs": []
    },
    {
      "cell_type": "code",
      "metadata": {
        "id": "RIghXXHEIjU4"
      },
      "source": [
        "# summarize model performance\n",
        "def summarize_performance(scores):\n",
        "    # print summary\n",
        "    print('Accuracy: mean=%.3f std=%.3f, n=%d' % (np.mean(scores)*100, np.std(scores)*100, len(scores)))\n",
        "    # box and whisker plots of results\n",
        "    pyplot.boxplot(scores)\n",
        "    pyplot.show()"
      ],
      "execution_count": 25,
      "outputs": []
    },
    {
      "cell_type": "code",
      "metadata": {
        "colab": {
          "base_uri": "https://localhost:8080/"
        },
        "id": "DBeZ_RGPIkxR",
        "outputId": "5fe8e17f-cee5-4e5b-990d-3e7c5348d64b"
      },
      "source": [
        "scores, histories, model = evaluate_model(trainX, trainY)\n"
      ],
      "execution_count": 26,
      "outputs": [
        {
          "output_type": "stream",
          "name": "stdout",
          "text": [
            "(48000, 28, 28, 1)\n",
            "1500/1500 [==============================] - 26s 17ms/step - loss: 0.1968 - accuracy: 0.9399 - val_loss: 0.0956 - val_accuracy: 0.9722\n",
            "> 97.225\n",
            "(48000, 28, 28, 1)\n",
            "1500/1500 [==============================] - 26s 17ms/step - loss: 0.1834 - accuracy: 0.9444 - val_loss: 0.0942 - val_accuracy: 0.9732\n",
            "> 97.317\n",
            "(48000, 28, 28, 1)\n",
            "1500/1500 [==============================] - 26s 17ms/step - loss: 0.1901 - accuracy: 0.9425 - val_loss: 0.0899 - val_accuracy: 0.9729\n",
            "> 97.292\n",
            "(48000, 28, 28, 1)\n",
            "1500/1500 [==============================] - 26s 17ms/step - loss: 0.1915 - accuracy: 0.9419 - val_loss: 0.0772 - val_accuracy: 0.9774\n",
            "> 97.742\n",
            "(48000, 28, 28, 1)\n",
            "1500/1500 [==============================] - 26s 17ms/step - loss: 0.1864 - accuracy: 0.9431 - val_loss: 0.0850 - val_accuracy: 0.9758\n",
            "> 97.583\n"
          ]
        }
      ]
    },
    {
      "cell_type": "code",
      "metadata": {
        "colab": {
          "base_uri": "https://localhost:8080/"
        },
        "id": "0wSdUEavImln",
        "outputId": "192ffc64-454f-45ff-d6c4-90fff016eac8"
      },
      "source": [
        "y_tar=np.argmax(testY,1)\n",
        "pY_test=model.predict(testX)\n",
        "predections= pY_test.argmax(axis=1)\n",
        "cm=confusion_matrix(y_tar,predections)\n",
        "print(cm)\n",
        "model.save('my_model.h5')"
      ],
      "execution_count": 28,
      "outputs": [
        {
          "output_type": "stream",
          "name": "stdout",
          "text": [
            "[[ 964    0    1    0    0    4    5    1    4    1]\n",
            " [   0 1121    2    1    0    1    5    0    5    0]\n",
            " [   2    5 1002    1    2    0    0   10   10    0]\n",
            " [   0    0    4  979    0    9    0    5   13    0]\n",
            " [   0    0    3    0  965    0    5    1    2    6]\n",
            " [   1    0    0    2    0  883    3    0    3    0]\n",
            " [   6    3    1    0    3    3  935    1    6    0]\n",
            " [   0    4   10    4    0    2    0 1002    4    2]\n",
            " [   1    0    3    3    2    2    0    3  959    1]\n",
            " [   4    5    1    2   12    5    1   10    5  964]]\n"
          ]
        }
      ]
    }
  ]
}